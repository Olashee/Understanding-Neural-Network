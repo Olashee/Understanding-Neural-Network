{
  "nbformat": 4,
  "nbformat_minor": 0,
  "metadata": {
    "colab": {
      "provenance": []
    },
    "kernelspec": {
      "name": "python3",
      "display_name": "Python 3"
    },
    "language_info": {
      "name": "python"
    }
  },
  "cells": [
    {
      "cell_type": "markdown",
      "source": [
        "# **Understanding Neural Network From Scratch**"
      ],
      "metadata": {
        "id": "VFeTtSNV1XN5"
      }
    },
    {
      "cell_type": "code",
      "execution_count": null,
      "metadata": {
        "id": "cc-2iHwS0xrm"
      },
      "outputs": [],
      "source": [
        "#Dataset\n",
        "\n",
        "#A\n",
        "a=[0,0,1,1,0,0,\n",
        "   0,1,0,0,1,0,\n",
        "   1,1,1,1,1,1,\n",
        "   1,0,0,0,0,1,\n",
        "   1,0,0,0,0,1]\n",
        "\n",
        "#B\n",
        "b=[0,1,1,1,0,0,\n",
        "   0,1,0,0,1,0,\n",
        "   0,1,1,1,1,0,\n",
        "   0,1,0,0,1,0,\n",
        "   0,1,1,1,1,0]\n",
        "\n",
        "#C\n",
        "c=[0,1,1,1,1,0,\n",
        "   0,1,0,0,0,0,\n",
        "   0,1,0,0,0,0,\n",
        "   0,1,0,0,0,0,\n",
        "   0,1,1,1,1,0]"
      ]
    },
    {
      "cell_type": "code",
      "source": [
        "#creating labels\n",
        "y=[[1,0,0],\n",
        "   [0,1,0],\n",
        "   [0,0,1]]"
      ],
      "metadata": {
        "id": "KuxYuAdI3jPi"
      },
      "execution_count": null,
      "outputs": []
    },
    {
      "cell_type": "code",
      "source": [
        "import numpy as np\n",
        "import matplotlib.pyplot as plt"
      ],
      "metadata": {
        "id": "rY86W_nX4D3Z"
      },
      "execution_count": null,
      "outputs": []
    },
    {
      "cell_type": "code",
      "source": [
        "#Visualize data\n",
        "plt.imshow(np.array(a).reshape(5,6))\n",
        "plt.title('A')\n",
        "plt.show()"
      ],
      "metadata": {
        "colab": {
          "base_uri": "https://localhost:8080/",
          "height": 452
        },
        "id": "uRxyXw5r4gSN",
        "outputId": "0c5428c3-2526-40be-f1a4-7ec1407f3736"
      },
      "execution_count": null,
      "outputs": [
        {
          "output_type": "display_data",
          "data": {
            "text/plain": [
              "<Figure size 640x480 with 1 Axes>"
            ],
            "image/png": "[encoded data removed]"
          },
          "metadata": {}
        }
      ]
    },
    {
      "cell_type": "code",
      "source": [
        "#convert data and labels into np array\n",
        "x=[np.array(a).reshape(1,30),np.array(b).reshape(1,30),np.array(c).reshape(1,30)]\n",
        "y=np.array(y)\n",
        "print(x,\"\\n\\n\",y)"
      ],
      "metadata": {
        "colab": {
          "base_uri": "https://localhost:8080/"
        },
        "id": "DhecySch47J1",
        "outputId": "43eb59f0-c365-4b46-e9b9-cf43945eb91d"
      },
      "execution_count": null,
      "outputs": [
        {
          "output_type": "stream",
          "name": "stdout",
          "text": [
            "[array([[0, 0, 1, 1, 0, 0, 0, 1, 0, 0, 1, 0, 1, 1, 1, 1, 1, 1, 1, 0, 0, 0,\n",
            "        0, 1, 1, 0, 0, 0, 0, 1]]), array([[0, 1, 1, 1, 0, 0, 0, 1, 0, 0, 1, 0, 0, 1, 1, 1, 1, 0, 0, 1, 0, 0,\n",
            "        1, 0, 0, 1, 1, 1, 1, 0]]), array([[0, 1, 1, 1, 1, 0, 0, 1, 0, 0, 0, 0, 0, 1, 0, 0, 0, 0, 0, 1, 0, 0,\n",
            "        0, 0, 0, 1, 1, 1, 1, 0]])] \n",
            "\n",
            " [[1 0 0]\n",
            " [0 1 0]\n",
            " [0 0 1]]\n"
          ]
        }
      ]
    },
    {
      "cell_type": "code",
      "source": [
        "#input(1,30)\n",
        "#hidden(1,5)\n",
        "#output(3,3)"
      ],
      "metadata": {
        "id": "xi9ps8oa6ASt"
      },
      "execution_count": null,
      "outputs": []
    },
    {
      "cell_type": "code",
      "source": [
        "#activation function\n",
        "def sigmoid(x):\n",
        "  return 1/(1+np.exp(-x))"
      ],
      "metadata": {
        "id": "1m9dR-GK6sjW"
      },
      "execution_count": null,
      "outputs": []
    },
    {
      "cell_type": "code",
      "source": [
        "#creating feed forward NN\n",
        "def f_forward(x,w1,w2):\n",
        "  #hidden layer\n",
        "  z1=x.dot(w1)\n",
        "  a1=sigmoid(z1)\n",
        "\n",
        "  #output layer\n",
        "  z2=a1.dot(w2)\n",
        "  a2=sigmoid(z2)\n",
        "  return(a2)\n"
      ],
      "metadata": {
        "id": "sl1ZR7GE9CtJ"
      },
      "execution_count": null,
      "outputs": []
    },
    {
      "cell_type": "code",
      "source": [
        "#initialize weights\n",
        "def generate_wt(x,y):\n",
        "  l=[]\n",
        "  for i in range(x*y):\n",
        "    l.append(np.random.randn())\n",
        "  return np.array(l).reshape(x,y)\n"
      ],
      "metadata": {
        "id": "ovgxzgEH9u8c"
      },
      "execution_count": null,
      "outputs": []
    },
    {
      "cell_type": "code",
      "source": [
        "def loss(out, Y):\n",
        "  s=(np.square(out-Y))\n",
        "  s=np.sum(s)/len(y)\n",
        "  return(s)"
      ],
      "metadata": {
        "id": "K8sD3f7H_FnJ"
      },
      "execution_count": null,
      "outputs": []
    },
    {
      "cell_type": "code",
      "source": [
        "def back_prop(x,y,w1,w2,alpha):\n",
        "  #hidden layer\n",
        "  z1=x.dot(w1)\n",
        "  a1=sigmoid(z1)\n",
        "\n",
        "  #output layer\n",
        "  z2=a1.dot(w2)\n",
        "  a2=sigmoid(z2)\n",
        "\n",
        "  d2=(a2-y)\n",
        "  d1 = np.multiply(d2.dot(w2.transpose()), np.multiply(a1, 1-a1))\n",
        "\n",
        "  #gradient\n",
        "  w1_adj = x.transpose().dot(d1)\n",
        "  w2_adj = a1.transpose().dot(d2)\n",
        "  w1=w1-(alpha*(w1_adj))\n",
        "  w2=w2-(alpha*(w2_adj))\n",
        "  return(w1,w2)"
      ],
      "metadata": {
        "id": "s1UMZlZhpqAq"
      },
      "execution_count": null,
      "outputs": []
    },
    {
      "cell_type": "code",
      "source": [
        "def train(x,y,w1,w2,alpha=0.01,epoch=10):\n",
        "  acc=[]\n",
        "  loss_values=[]\n",
        "  for j in range(epoch):\n",
        "    l=[]\n",
        "    for i in range(len(x)):\n",
        "      out=f_forward(x[i],w1,w2)\n",
        "      l.append((loss(out,y[i])))\n",
        "      w1,w2=back_prop(x[i],y[i],w1,w2,alpha)\n",
        "    print(\"Epochs:\",j+1,\"acc:\",(1-(sum(l)/len(x)))*100)\n",
        "    acc.append((1-(sum(l)/len(x)))*100)\n",
        "    loss_values.append(sum(l)/len(x))\n",
        "  return(acc,loss_values,w1,w2)"
      ],
      "metadata": {
        "id": "_2mHt6PDpvcO"
      },
      "execution_count": null,
      "outputs": []
    },
    {
      "cell_type": "code",
      "source": [
        "def predict(x,w1,w2):\n",
        "  out=f_forward(x,w1,w2)\n",
        "  maxm=0\n",
        "  k=0\n",
        "  for i in range(len(out[0])):\n",
        "    if(maxm<out[0][i]):\n",
        "      maxm=out[0][i]\n",
        "      k=i\n",
        "  if(k==0):\n",
        "    print(\"Image is of Letter A\")\n",
        "  elif(k==1):\n",
        "    print(\"Image is of Letter B\")\n",
        "  else:\n",
        "    print(\"Image is of Letter C\")\n",
        "  plt.imshow(x.reshape(5,6))\n",
        "  plt.show()"
      ],
      "metadata": {
        "id": "qWwU9WuvpxIR"
      },
      "execution_count": null,
      "outputs": []
    },
    {
      "cell_type": "code",
      "source": [
        "w1=generate_wt(30,5)\n",
        "w2=generate_wt(5,3)\n",
        "print(w1 ,\"\\n\\n\",w2)"
      ],
      "metadata": {
        "colab": {
          "base_uri": "https://localhost:8080/"
        },
        "id": "uWnJLggIqFsa",
        "outputId": "5e5d7cbb-3f70-4e4f-bd45-e09ae73717e8"
      },
      "execution_count": null,
      "outputs": [
        {
          "output_type": "stream",
          "name": "stdout",
          "text": [
            "[[ 0.32804395 -0.53434365 -0.70821935 -0.95666655 -1.75241723]\n",
            " [-1.07162265 -0.02077673  0.24899909 -0.71979836 -1.2400195 ]\n",
            " [-0.81151699 -1.18789496 -0.6175504   1.40057878 -0.4317923 ]\n",
            " [ 2.27211087  0.61051756  1.2187217  -0.97134436 -1.59463942]\n",
            " [ 1.5169131   0.25364433  1.33032294 -2.00849345  1.12457688]\n",
            " [-0.35645328 -1.00570125 -1.15265019  0.1747789   2.14905591]\n",
            " [-0.4536641  -0.7337472  -0.27724665  0.61515257 -0.11124263]\n",
            " [-0.13889304 -0.09309783 -0.82636162 -2.09042466 -0.53699249]\n",
            " [ 1.28211914 -1.51452662  0.18252281  0.32830608  0.42279812]\n",
            " [-0.72249155  0.05678309 -0.55643525  1.00484959 -0.8004119 ]\n",
            " [-0.34833941 -0.127637    1.30353796 -0.99501091 -0.07688757]\n",
            " [-0.67020224 -0.17875344 -0.02255608 -2.12181771 -3.32086192]\n",
            " [ 0.7964033  -2.15344004 -0.58572873 -0.76155817  1.04802312]\n",
            " [ 0.40397184 -0.09765542 -0.67253416 -0.92360662 -1.28635833]\n",
            " [-0.10322069  0.61124596  0.1627895   0.56876057  0.25222389]\n",
            " [ 0.20702386 -1.23912911 -1.96233108  0.29041507 -0.60743684]\n",
            " [ 0.28079245  1.26216133  0.56713751 -0.88052097 -1.54771901]\n",
            " [-0.70208689 -0.32743529  1.19719939  0.67354724 -1.36402932]\n",
            " [ 0.96265042  0.32653235  0.55142972  0.01231645  0.14160898]\n",
            " [ 0.08997464 -1.42974139  0.50922104 -1.19716563 -0.17914936]\n",
            " [ 1.49845804  0.29959143 -0.6514514   1.37701991  0.04128961]\n",
            " [ 0.34682279  0.51637056 -1.07763941 -0.6010662   0.47341404]\n",
            " [-1.36278432 -0.15749947  1.16547917 -0.93676788  1.5884409 ]\n",
            " [-1.43356422  0.98704541 -1.03733901  0.59246032  1.45882834]\n",
            " [ 1.05417441  1.01330813  0.04993049 -0.32530176  1.4788207 ]\n",
            " [ 0.82844965  0.94587148  1.60053494  1.04762813  1.30411853]\n",
            " [ 0.4421141   0.95329817 -0.25188755  0.57893253 -0.89865184]\n",
            " [ 0.9898884  -0.90335359  0.141888   -0.79995864 -0.03088527]\n",
            " [ 1.04466106  0.64687712  0.69331375 -0.331954    1.23769111]\n",
            " [ 2.31424926 -1.26381257  1.83492203 -1.39094684  0.23930476]] \n",
            "\n",
            " [[ 0.47636149  0.41203206  0.20288843]\n",
            " [-0.94834654  0.56931691 -0.38209886]\n",
            " [-0.91535904 -0.50020325  0.00265334]\n",
            " [ 0.67203582 -2.04941612  1.12460337]\n",
            " [-0.6057933   0.11874176  2.42980336]]\n"
          ]
        }
      ]
    },
    {
      "cell_type": "code",
      "source": [
        "\n",
        "acc,loss,w1,w2=train(x,y,w1,w2,0.1,100)\n"
      ],
      "metadata": {
        "id": "c15Z-vz4zrbd",
        "colab": {
          "base_uri": "https://localhost:8080/"
        },
        "outputId": "be427ffb-b76d-4771-bf03-c07e0a5a7f05"
      },
      "execution_count": null,
      "outputs": [
        {
          "output_type": "stream",
          "name": "stdout",
          "text": [
            "Epochs: 1 acc: 75.66626725373038\n",
            "Epochs: 2 acc: 76.44676000312907\n",
            "Epochs: 3 acc: 77.08606489710992\n",
            "Epochs: 4 acc: 77.62144582324116\n",
            "Epochs: 5 acc: 78.08153587483146\n",
            "Epochs: 6 acc: 78.48908066304774\n",
            "Epochs: 7 acc: 78.86288710598477\n",
            "Epochs: 8 acc: 79.21921595943266\n",
            "Epochs: 9 acc: 79.57285158665664\n",
            "Epochs: 10 acc: 79.93794812930408\n",
            "Epochs: 11 acc: 80.32851052776708\n",
            "Epochs: 12 acc: 80.7580019066501\n",
            "Epochs: 13 acc: 81.23711294633873\n",
            "Epochs: 14 acc: 81.7687431107747\n",
            "Epochs: 15 acc: 82.34138729557961\n",
            "Epochs: 16 acc: 82.92723509294947\n",
            "Epochs: 17 acc: 83.4924237765635\n",
            "Epochs: 18 acc: 84.01392925072335\n",
            "Epochs: 19 acc: 84.48638396477024\n",
            "Epochs: 20 acc: 84.91553472046094\n",
            "Epochs: 21 acc: 85.30968328576758\n",
            "Epochs: 22 acc: 85.67572552810051\n",
            "Epochs: 23 acc: 86.01863250544542\n",
            "Epochs: 24 acc: 86.3419991626466\n",
            "Epochs: 25 acc: 86.64858593763284\n",
            "Epochs: 26 acc: 86.94064399343308\n",
            "Epochs: 27 acc: 87.22007838743328\n",
            "Epochs: 28 acc: 87.48852599946781\n",
            "Epochs: 29 acc: 87.74739636430337\n",
            "Epochs: 30 acc: 87.99789869227611\n",
            "Epochs: 31 acc: 88.24106444287867\n",
            "Epochs: 32 acc: 88.47776841663665\n",
            "Epochs: 33 acc: 88.70874884225047\n",
            "Epochs: 34 acc: 88.93462619180939\n",
            "Epochs: 35 acc: 89.15592038461115\n",
            "Epochs: 36 acc: 89.37306617043588\n",
            "Epochs: 37 acc: 89.58642663490043\n",
            "Epochs: 38 acc: 89.7963048862807\n",
            "Epochs: 39 acc: 90.0029540568577\n",
            "Epochs: 40 acc: 90.20658579002242\n",
            "Epochs: 41 acc: 90.40737739751418\n",
            "Epochs: 42 acc: 90.60547786827333\n",
            "Epochs: 43 acc: 90.80101289805398\n",
            "Epochs: 44 acc: 90.99408909158359\n",
            "Epochs: 45 acc: 91.18479746940812\n",
            "Epochs: 46 acc: 91.37321639118413\n",
            "Epochs: 47 acc: 91.55941398683932\n",
            "Epochs: 48 acc: 91.74345016699036\n",
            "Epochs: 49 acc: 91.9253782642623\n",
            "Epochs: 50 acc: 92.1052463375507\n",
            "Epochs: 51 acc: 92.283098151674\n",
            "Epochs: 52 acc: 92.45897382529566\n",
            "Epochs: 53 acc: 92.6329101207876\n",
            "Epochs: 54 acc: 92.80494033170957\n",
            "Epochs: 55 acc: 92.97509370842046\n",
            "Epochs: 56 acc: 93.14339435271289\n",
            "Epochs: 57 acc: 93.30985951233502\n",
            "Epochs: 58 acc: 93.4744972214218\n",
            "Epochs: 59 acc: 93.63730327015482\n",
            "Epochs: 60 acc: 93.79825755385946\n",
            "Epochs: 61 acc: 93.9573199542122\n",
            "Epochs: 62 acc: 94.11442604430776\n",
            "Epochs: 63 acc: 94.2694830761443\n",
            "Epochs: 64 acc: 94.4223668793411\n",
            "Epochs: 65 acc: 94.57292043035761\n",
            "Epochs: 66 acc: 94.72095488241482\n",
            "Epochs: 67 acc: 94.86625371449121\n",
            "Epochs: 68 acc: 95.00858032149412\n",
            "Epochs: 69 acc: 95.14768883846024\n",
            "Epochs: 70 acc: 95.28333735722086\n",
            "Epochs: 71 acc: 95.41530211335585\n",
            "Epochs: 72 acc: 95.54339087934423\n",
            "Epochs: 73 acc: 95.66745383287065\n",
            "Epochs: 74 acc: 95.78739059693623\n",
            "Epochs: 75 acc: 95.90315285398174\n",
            "Epochs: 76 acc: 96.01474271184361\n",
            "Epochs: 77 acc: 96.12220763345134\n",
            "Epochs: 78 acc: 96.22563309984511\n",
            "Epochs: 79 acc: 96.32513423301647\n",
            "Epochs: 80 acc: 96.42084742827194\n",
            "Epochs: 81 acc: 96.51292274451247\n",
            "Epochs: 82 acc: 96.60151747839464\n",
            "Epochs: 83 acc: 96.6867910745229\n",
            "Epochs: 84 acc: 96.7689013294245\n",
            "Epochs: 85 acc: 96.84800173300654\n",
            "Epochs: 86 acc: 96.92423974197737\n",
            "Epochs: 87 acc: 96.99775577471729\n",
            "Epochs: 88 acc: 97.0686827375027\n",
            "Epochs: 89 acc: 97.13714592371385\n",
            "Epochs: 90 acc: 97.20326316159125\n",
            "Epochs: 91 acc: 97.26714511722132\n",
            "Epochs: 92 acc: 97.32889568553676\n",
            "Epochs: 93 acc: 97.38861242273788\n",
            "Epochs: 94 acc: 97.44638698911218\n",
            "Epochs: 95 acc: 97.50230558256628\n",
            "Epochs: 96 acc: 97.55644935117549\n",
            "Epochs: 97 acc: 97.60889477852002\n",
            "Epochs: 98 acc: 97.65971403918971\n",
            "Epochs: 99 acc: 97.70897532413971\n",
            "Epochs: 100 acc: 97.75674313696867\n"
          ]
        }
      ]
    },
    {
      "cell_type": "code",
      "source": [
        "import matplotlib.pyplot as plt1\n",
        "plt1.plot(acc)\n",
        "plt1.ylabel('Accuracy',)\n",
        "plt1.xlabel(\"Epochs\")\n",
        "plt1.show()"
      ],
      "metadata": {
        "colab": {
          "base_uri": "https://localhost:8080/",
          "height": 449
        },
        "id": "gHaXx3txz_CP",
        "outputId": "c6abcb93-fff0-4822-8021-d1a343c91ea1"
      },
      "execution_count": null,
      "outputs": [
        {
          "output_type": "display_data",
          "data": {
            "text/plain": [
              "<Figure size 640x480 with 1 Axes>"
            ],
            "image/png": "[encoded data removed]"
          },
          "metadata": {}
        }
      ]
    },
    {
      "cell_type": "code",
      "source": [
        "plt1.plot(loss)\n",
        "plt1.ylabel('Loss',)\n",
        "plt1.xlabel(\"Epochs\")\n",
        "plt1.show()"
      ],
      "metadata": {
        "colab": {
          "base_uri": "https://localhost:8080/",
          "height": 449
        },
        "id": "gZTvNl5R0hbO",
        "outputId": "a830b60d-aa7c-455b-c398-a68031f43cda"
      },
      "execution_count": null,
      "outputs": [
        {
          "output_type": "display_data",
          "data": {
            "text/plain": [
              "<Figure size 640x480 with 1 Axes>"
            ],
            "image/png": "[encoded data removed]"
          },
          "metadata": {}
        }
      ]
    },
    {
      "cell_type": "code",
      "source": [
        "print(w1 ,\"\\n\\n\",w2)"
      ],
      "metadata": {
        "colab": {
          "base_uri": "https://localhost:8080/"
        },
        "id": "I3lD079j1dgX",
        "outputId": "f20ae097-6167-4fb1-b05d-17e723fe316f"
      },
      "execution_count": null,
      "outputs": [
        {
          "output_type": "stream",
          "name": "stdout",
          "text": [
            "[[ 0.32804395 -0.53434365 -0.70821935 -0.95666655 -1.75241723]\n",
            " [-1.38146794  0.20969695  0.31701868 -0.73387454 -0.71200852]\n",
            " [-1.01833345 -1.41866868 -0.81569979  1.44576939 -0.10159928]\n",
            " [ 2.06529441  0.37974385  1.02057231 -0.92615374 -1.26444641]\n",
            " [ 1.48234084 -0.38173663  1.41754022 -1.98788188  2.23694314]\n",
            " [-0.35645328 -1.00570125 -1.15265019  0.1747789   2.14905591]\n",
            " [-0.4536641  -0.7337472  -0.27724665  0.61515257 -0.11124263]\n",
            " [-0.3457095  -0.32387155 -1.024511   -2.04523405 -0.20679948]\n",
            " [ 1.28211914 -1.51452662  0.18252281  0.32830608  0.42279812]\n",
            " [-0.72249155  0.05678309 -0.55643525  1.00484959 -0.8004119 ]\n",
            " [-0.52058362  0.27697024  1.01817129 -0.97043187 -0.85906082]\n",
            " [-0.67020224 -0.17875344 -0.02255608 -2.12181771 -3.32086192]\n",
            " [ 0.89943213 -2.61468745 -0.85189771 -0.70229138  0.85020516]\n",
            " [ 0.19715538 -0.32842914 -0.87068355 -0.87841601 -0.95616532]\n",
            " [-0.2754649   1.0158532  -0.12257717  0.59333961 -0.52994936]\n",
            " [ 0.03477966 -0.83452187 -2.24769775  0.31499411 -1.38961008]\n",
            " [ 0.10854824  1.66676858  0.28177085 -0.85594193 -2.32989226]\n",
            " [-0.59905806 -0.7886827   0.93103041  0.73281404 -1.56184728]\n",
            " [ 1.06567925 -0.13471505  0.28526074  0.07158325 -0.05620898]\n",
            " [-0.21987065 -1.19926771  0.57724064 -1.21124181  0.34886162]\n",
            " [ 1.49845804  0.29959143 -0.6514514   1.37701991  0.04128961]\n",
            " [ 0.34682279  0.51637056 -1.07763941 -0.6010662   0.47341404]\n",
            " [-1.63805736  0.70835518  1.14628148 -0.97145563  1.00408562]\n",
            " [-1.33053539  0.52579801 -1.30350799  0.65172712  1.26101037]\n",
            " [ 1.15720324  0.55206072 -0.2162385  -0.26603496  1.28100274]\n",
            " [ 0.51860436  1.17634517  1.66855454  1.03355194  1.83212951]\n",
            " [ 0.13226881  1.18377186 -0.18386795  0.56485635 -0.37064086]\n",
            " [ 0.68004311 -0.6728799   0.2099076  -0.81403482  0.49712571]\n",
            " [ 0.73481577  0.87735081  0.76133335 -0.34603018  1.76570209]\n",
            " [ 2.41727809 -1.72505998  1.56875305 -1.33168004  0.0414868 ]] \n",
            "\n",
            " [[ 1.72694301 -1.71332134 -1.57321562]\n",
            " [-2.42699574  2.43306765 -0.87141863]\n",
            " [-1.86142475 -0.26903664 -0.452799  ]\n",
            " [ 0.70366876 -2.07692645  1.09516171]\n",
            " [-1.43244436 -1.43034787  4.11767915]]\n"
          ]
        }
      ]
    },
    {
      "cell_type": "code",
      "source": [
        "predict(x[2],w1,w2)"
      ],
      "metadata": {
        "colab": {
          "base_uri": "https://localhost:8080/",
          "height": 447
        },
        "id": "fJdc7Qm31pMk",
        "outputId": "4d337e0f-a859-4fa5-d7ce-fe06d7823604"
      },
      "execution_count": null,
      "outputs": [
        {
          "output_type": "stream",
          "name": "stdout",
          "text": [
            "Image is of Letter C\n"
          ]
        },
        {
          "output_type": "display_data",
          "data": {
            "text/plain": [
              "<Figure size 640x480 with 1 Axes>"
            ],
            "image/png": "[encoded data removed]"
          },
          "metadata": {}
        }
      ]
    }
  ]
}